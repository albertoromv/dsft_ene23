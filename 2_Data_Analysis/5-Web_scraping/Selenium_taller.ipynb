{
 "cells": [
  {
   "cell_type": "markdown",
   "metadata": {
    "collapsed": false,
    "pycharm": {
     "name": "#%% md\n"
    }
   },
   "source": [
    "# Web Scraping con Selenium\n",
    "\n",
    "##### Vamos a ver como acceder a una web creando un bot con la librería Selenium que interactuará con la página\n",
    "\n",
    "^Daniel Vivas - Data Science Teacher Assistant - DS Abril 2022^"
   ]
  },
  {
   "cell_type": "markdown",
   "metadata": {
    "collapsed": false,
    "pycharm": {
     "name": "#%% md\n"
    }
   },
   "source": [
    "## 1. Instalación de librerías\n",
    "\n",
    "Tenemos que usar las librerías Selenium y Webdriver_manager. Vamos a instalarlas:"
   ]
  },
  {
   "cell_type": "code",
   "execution_count": 1,
   "metadata": {
    "collapsed": false,
    "pycharm": {
     "name": "#%%\n"
    }
   },
   "outputs": [
    {
     "name": "stdout",
     "output_type": "stream",
     "text": [
      "Requirement already satisfied: selenium in c:\\users\\jamf1\\appdata\\local\\programs\\python\\python37\\lib\\site-packages (4.1.2)\n",
      "Requirement already satisfied: trio-websocket~=0.9 in c:\\users\\jamf1\\appdata\\local\\programs\\python\\python37\\lib\\site-packages (from selenium) (0.9.2)\n",
      "Requirement already satisfied: urllib3[secure,socks]~=1.26 in c:\\users\\jamf1\\appdata\\roaming\\python\\python37\\site-packages (from selenium) (1.26.9)\n",
      "Requirement already satisfied: trio~=0.17 in c:\\users\\jamf1\\appdata\\local\\programs\\python\\python37\\lib\\site-packages (from selenium) (0.20.0)\n",
      "Requirement already satisfied: idna in c:\\users\\jamf1\\appdata\\roaming\\python\\python37\\site-packages (from trio~=0.17->selenium) (3.3)\n",
      "Requirement already satisfied: sortedcontainers in c:\\users\\jamf1\\appdata\\local\\programs\\python\\python37\\lib\\site-packages (from trio~=0.17->selenium) (2.4.0)\n",
      "Requirement already satisfied: attrs>=19.2.0 in c:\\users\\jamf1\\appdata\\local\\programs\\python\\python37\\lib\\site-packages (from trio~=0.17->selenium) (21.4.0)\n",
      "Requirement already satisfied: async-generator>=1.9 in c:\\users\\jamf1\\appdata\\local\\programs\\python\\python37\\lib\\site-packages (from trio~=0.17->selenium) (1.10)\n",
      "Requirement already satisfied: sniffio in c:\\users\\jamf1\\appdata\\local\\programs\\python\\python37\\lib\\site-packages (from trio~=0.17->selenium) (1.2.0)\n",
      "Requirement already satisfied: outcome in c:\\users\\jamf1\\appdata\\local\\programs\\python\\python37\\lib\\site-packages (from trio~=0.17->selenium) (1.1.0)\n",
      "Requirement already satisfied: cffi>=1.14 in c:\\users\\jamf1\\appdata\\local\\programs\\python\\python37\\lib\\site-packages (from trio~=0.17->selenium) (1.15.0)\n",
      "Requirement already satisfied: wsproto>=0.14 in c:\\users\\jamf1\\appdata\\local\\programs\\python\\python37\\lib\\site-packages (from trio-websocket~=0.9->selenium) (1.1.0)\n",
      "Requirement already satisfied: PySocks!=1.5.7,<2.0,>=1.5.6 in c:\\users\\jamf1\\appdata\\local\\programs\\python\\python37\\lib\\site-packages (from urllib3[secure,socks]~=1.26->selenium) (1.7.1)\n",
      "Requirement already satisfied: cryptography>=1.3.4 in c:\\users\\jamf1\\appdata\\local\\programs\\python\\python37\\lib\\site-packages (from urllib3[secure,socks]~=1.26->selenium) (36.0.1)\n",
      "Requirement already satisfied: certifi in c:\\users\\jamf1\\appdata\\roaming\\python\\python37\\site-packages (from urllib3[secure,socks]~=1.26->selenium) (2021.10.8)\n",
      "Requirement already satisfied: pyOpenSSL>=0.14 in c:\\users\\jamf1\\appdata\\local\\programs\\python\\python37\\lib\\site-packages (from urllib3[secure,socks]~=1.26->selenium) (22.0.0)\n",
      "Requirement already satisfied: pycparser in c:\\users\\jamf1\\appdata\\local\\programs\\python\\python37\\lib\\site-packages (from cffi>=1.14->trio~=0.17->selenium) (2.21)\n",
      "Requirement already satisfied: h11<1,>=0.9.0 in c:\\users\\jamf1\\appdata\\local\\programs\\python\\python37\\lib\\site-packages (from wsproto>=0.14->trio-websocket~=0.9->selenium) (0.13.0)\n",
      "Requirement already satisfied: typing-extensions in c:\\users\\jamf1\\appdata\\roaming\\python\\python37\\site-packages (from h11<1,>=0.9.0->wsproto>=0.14->trio-websocket~=0.9->selenium) (4.2.0)\n"
     ]
    }
   ],
   "source": [
    "!pip install selenium\n",
    "!pip install webdriver_manager"
   ]
  },
  {
   "cell_type": "markdown",
   "metadata": {
    "collapsed": false,
    "pycharm": {
     "name": "#%% md\n"
    }
   },
   "source": [
    "## 2. Importación de las librerías"
   ]
  },
  {
   "cell_type": "code",
   "execution_count": 25,
   "metadata": {
    "collapsed": false,
    "pycharm": {
     "name": "#%%\n"
    }
   },
   "outputs": [],
   "source": [
    "#Para la manipulación de datos\n",
    "import pandas as pd\n",
    "\n",
    "#Servicio y driver de Chrome de Selenium\n",
    "from selenium import webdriver\n",
    "from selenium.webdriver.chrome.service import Service\n",
    "from webdriver_manager.chrome import ChromeDriverManager\n",
    "\n",
    "#Las opciones que vamos a tener para buscar elementos\n",
    "from selenium.webdriver.common.by import By\n",
    "\n",
    "#Para cuando queramos mandar pulsaciones de teclado\n",
    "from selenium.webdriver.common.keys import Keys\n",
    "\n",
    "#Hacemos que espere\n",
    "import time\n"
   ]
  },
  {
   "cell_type": "markdown",
   "metadata": {
    "collapsed": false,
    "pycharm": {
     "name": "#%% md\n"
    }
   },
   "source": [
    "## 3. Instalación del webdriver\n",
    "\n",
    "El webdriver es lo que nos va a permitir conectarnos con el navegador. Lo instalamos:"
   ]
  },
  {
   "cell_type": "code",
   "execution_count": 26,
   "metadata": {
    "collapsed": false,
    "pycharm": {
     "name": "#%%\n"
    }
   },
   "outputs": [],
   "source": [
    "service = Service(ChromeDriverManager().install())\n",
    "driver = webdriver.Chrome(service=service)"
   ]
  },
  {
   "cell_type": "markdown",
   "metadata": {
    "collapsed": false,
    "pycharm": {
     "name": "#%% md\n"
    }
   },
   "source": [
    "## 4. Abrir web\n",
    "Abrimos la web en el driver ya podemos navegar y acceder a los elementos de la página"
   ]
  },
  {
   "cell_type": "code",
   "execution_count": 27,
   "metadata": {
    "collapsed": false,
    "pycharm": {
     "is_executing": true,
     "name": "#%%\n"
    }
   },
   "outputs": [],
   "source": []
  },
  {
   "cell_type": "markdown",
   "metadata": {
    "collapsed": false,
    "pycharm": {
     "name": "#%% md\n"
    }
   },
   "source": [
    "## 5. Scrapeo\n",
    "Empezamos lo interesante:"
   ]
  },
  {
   "cell_type": "markdown",
   "metadata": {
    "collapsed": false,
    "pycharm": {
     "name": "#%% md\n"
    }
   },
   "source": [
    "Podemos acceder a elementos en la página de varias maneras:\n",
    "- Nombre de la etiqueta\n",
    "- Atributo: Clase\n",
    "- Atributo: ID\n",
    "- Atributo: Name\n",
    "- Selector: Xpath\n",
    "- Selector: CSS Selector\n",
    "\n",
    "Para ello vamos a usar el driver que hemos creado y el By."
   ]
  },
  {
   "cell_type": "markdown",
   "metadata": {
    "collapsed": false,
    "pycharm": {
     "name": "#%% md\n"
    }
   },
   "source": [
    "##### Beginner Selenium Cheatsheet:\n",
    "Sacar un elemento:\n",
    "- element = driver.find_element(by, value)\n",
    "\n",
    "Sacar varios elementos:\n",
    "- element = driver.find_elements(by, value)\n",
    "\n",
    "Sacar atributos:\n",
    "- attribute = element.--el atributo--\n",
    "- attribute = element.get_attribute(--el atributo--)\n",
    "\n",
    "Hacer click:\n",
    "- element.click()\n",
    "\n",
    "Teclear:\n",
    "- element.send_keys()\n",
    "\n",
    "Gestión de pestañas:\n",
    "- driver.switch_to.window(driver.window_handles[-1])\n",
    "- driver.get(url)\n",
    "- driver.close()"
   ]
  },
  {
   "cell_type": "markdown",
   "metadata": {
    "collapsed": false,
    "pycharm": {
     "name": "#%% md\n"
    }
   },
   "source": [
    "Vemos que hay un popup pidiendo que aceptemos las cookies. ¡Vamos a aceptarlo!"
   ]
  },
  {
   "cell_type": "code",
   "execution_count": 28,
   "metadata": {},
   "outputs": [
    {
     "name": "stdout",
     "output_type": "stream",
     "text": [
      "<class 'list'>\n",
      "MÁS OPCIONES\n",
      "ACEPTO\n"
     ]
    }
   ],
   "source": [
    "# Encontrar elementos por etiqueta html\n",
    "\n",
    "\n",
    "# Encontrar elementos por clase\n",
    "\n",
    "\n",
    "# Encontrar elementos por XPATH\n"
   ]
  },
  {
   "cell_type": "markdown",
   "metadata": {},
   "source": [
    "### Dos formas de obtener todos los botones"
   ]
  },
  {
   "cell_type": "markdown",
   "metadata": {},
   "source": [
    "Recorriendo la lista"
   ]
  },
  {
   "cell_type": "code",
   "execution_count": 29,
   "metadata": {},
   "outputs": [
    {
     "name": "stdout",
     "output_type": "stream",
     "text": [
      "socios\n",
      "MÁS OPCIONES\n",
      "ACEPTO\n"
     ]
    }
   ],
   "source": []
  },
  {
   "cell_type": "markdown",
   "metadata": {},
   "source": [
    "Recorriendo los índices"
   ]
  },
  {
   "cell_type": "code",
   "execution_count": 30,
   "metadata": {},
   "outputs": [
    {
     "name": "stdout",
     "output_type": "stream",
     "text": [
      "socios\n",
      "MÁS OPCIONES\n",
      "ACEPTO\n"
     ]
    }
   ],
   "source": []
  },
  {
   "cell_type": "code",
   "execution_count": 31,
   "metadata": {
    "collapsed": false,
    "pycharm": {
     "name": "#%%\n"
    }
   },
   "outputs": [
    {
     "name": "stdout",
     "output_type": "stream",
     "text": [
      "Etiqueta: button\n",
      "Texto de la etiqueta: ACEPTO\n",
      "Atributo mode: primary\n",
      "Atributo size: large\n"
     ]
    }
   ],
   "source": [
    "#Primero, seleccionamos el botón\n",
    "\n",
    "\n",
    "#Nos aseguramos de que es el botón que estamos buscando\n",
    "\n",
    "#Hacemos click\n"
   ]
  },
  {
   "cell_type": "markdown",
   "metadata": {
    "collapsed": false,
    "pycharm": {
     "name": "#%% md\n"
    }
   },
   "source": [
    "Hacemos la búsqueda de una película"
   ]
  },
  {
   "cell_type": "code",
   "execution_count": 32,
   "metadata": {},
   "outputs": [],
   "source": [
    "#Búsqueda por etiqueta\n"
   ]
  },
  {
   "cell_type": "code",
   "execution_count": 33,
   "metadata": {},
   "outputs": [],
   "source": [
    "#Búsqueda por ID. Buscamos la barra de navegación de la página web\n"
   ]
  },
  {
   "cell_type": "code",
   "execution_count": 34,
   "metadata": {},
   "outputs": [],
   "source": [
    "#Teclea contenido dentro de la barra.\n"
   ]
  },
  {
   "cell_type": "code",
   "execution_count": 35,
   "metadata": {},
   "outputs": [],
   "source": [
    "# limpiar la barra de búsqueda\n"
   ]
  },
  {
   "cell_type": "code",
   "execution_count": 36,
   "metadata": {
    "collapsed": false,
    "pycharm": {
     "name": "#%%\n"
    }
   },
   "outputs": [],
   "source": [
    "#Para asegurarnos, podemos hacer una captura del elemento\n",
    "\n",
    "\n",
    "#Introducimos el nombre de la película a buscar\n",
    "\n",
    "\n",
    "#Espera 5 segundos\n",
    "\n",
    "\n",
    "#Pulsamos intro\n",
    "\n"
   ]
  },
  {
   "cell_type": "markdown",
   "metadata": {
    "collapsed": false,
    "pycharm": {
     "name": "#%% md\n"
    }
   },
   "source": [
    "Entramos en el primer resultado"
   ]
  },
  {
   "cell_type": "code",
   "execution_count": 39,
   "metadata": {
    "collapsed": false,
    "pycharm": {
     "name": "#%%\n"
    }
   },
   "outputs": [],
   "source": [
    "#Accedemos al bloque que vemos que se repite. Podemos sacar la lista...\n",
    "\n",
    "\n",
    "#...o podemos directamente el primer resultado\n"
   ]
  },
  {
   "cell_type": "code",
   "execution_count": 40,
   "metadata": {},
   "outputs": [],
   "source": [
    "#Accedemos mediante un selector CSS al elemento a, que contiene el enlace (texto)\n",
    "\n",
    "\n",
    "#Accedemos mediante un selector CSS al elemento a, que contiene el enlace (texto) desde el padre\n"
   ]
  },
  {
   "cell_type": "code",
   "execution_count": 41,
   "metadata": {},
   "outputs": [],
   "source": [
    "#Accedemos mediante la clase al elemento a, que contiene el enlace (texto)\n"
   ]
  },
  {
   "cell_type": "code",
   "execution_count": 45,
   "metadata": {},
   "outputs": [],
   "source": []
  },
  {
   "cell_type": "code",
   "execution_count": 46,
   "metadata": {},
   "outputs": [
    {
     "name": "stdout",
     "output_type": "stream",
     "text": [
      "https://www.filmaffinity.com/es/film618375.html\n"
     ]
    }
   ],
   "source": [
    "#Guardamos el enlace\n"
   ]
  },
  {
   "cell_type": "code",
   "execution_count": 47,
   "metadata": {},
   "outputs": [],
   "source": [
    "#Hacemos click\n"
   ]
  },
  {
   "cell_type": "code",
   "execution_count": 48,
   "metadata": {},
   "outputs": [],
   "source": [
    "#Volver\n",
    "#driver.back()"
   ]
  },
  {
   "cell_type": "markdown",
   "metadata": {
    "collapsed": false,
    "pycharm": {
     "name": "#%% md\n"
    }
   },
   "source": [
    "Vamos a sacar los datos principales de la película:"
   ]
  },
  {
   "cell_type": "code",
   "execution_count": 49,
   "metadata": {
    "collapsed": false,
    "pycharm": {
     "name": "#%%\n"
    }
   },
   "outputs": [
    {
     "name": "stdout",
     "output_type": "stream",
     "text": [
      "Título original - Oblivion\n",
      "Año - 2013\n",
      "Duración - 126 min.\n",
      "País -  Estados Unidos\n",
      "Dirección - Joseph Kosinski\n",
      "Guion - Joseph Kosinski, Michael Arndt, Karl Gajdusek. Cómic: Joseph Kosinski, Arvid Nelson\n",
      "Música - Anthony Gonzalez, M83, Joseph Trapanese\n",
      "Fotografía - Claudio Miranda\n",
      "Reparto - Tom Cruise, Andrea Riseborough, Olga Kurylenko, Morgan Freeman, Nikolaj Coster-Waldau, Zoe Bell, Melissa Leo, Jaylen Moore, Julie Hardin, Paul Gunawan, ver 4 más\n",
      "Compañías - Universal Pictures, Chernin Entertainment, Relativity Studios, Monolith Pictures, Radical Studios\n",
      "Género - Ciencia ficción. Intriga | Futuro postapocalíptico. Distopía. Cómic\n",
      "Sinopsis - Año 2073. Hace más de 60 años la Tierra fue atacada; se ganó la guerra, pero la mitad del planeta quedó destruido, y todos los seres humanos fueron evacuados. Jack Harper (Tom Cruise), un antiguo marine, es uno de los últimos hombres que la habitan. Es un ingeniero de Drones que participa en una operación para extraer los recursos vitales del planeta. Su misión consiste en patrullar diariamente los cielos. Un día, rescata a una desconocida de una nave espacial y, entonces, se ve obligado a replantearse sus convicciones más profundas. (FILMAFFINITY)\n"
     ]
    }
   ],
   "source": []
  },
  {
   "cell_type": "markdown",
   "metadata": {
    "collapsed": false,
    "pycharm": {
     "name": "#%% md\n"
    }
   },
   "source": [
    "Creamos un dataframe y metemos los datos"
   ]
  },
  {
   "cell_type": "code",
   "execution_count": 128,
   "metadata": {},
   "outputs": [
    {
     "data": {
      "text/plain": [
       "{'Título original': 'Oblivion',\n",
       " 'Año': '2013',\n",
       " 'Duración': '126 min.',\n",
       " 'País': ' Estados Unidos',\n",
       " 'Dirección': 'Joseph Kosinski',\n",
       " 'Guion': 'Joseph Kosinski, Michael Arndt, Karl Gajdusek. Cómic: Joseph Kosinski, Arvid Nelson',\n",
       " 'Música': 'Anthony Gonzalez, M83, Joseph Trapanese',\n",
       " 'Fotografía': 'Claudio Miranda',\n",
       " 'Reparto': 'Tom Cruise, Andrea Riseborough, Olga Kurylenko, Morgan Freeman, Nikolaj Coster-Waldau, Zoe Bell, Melissa Leo, Jaylen Moore, Julie Hardin, Paul Gunawan, Jay Oliver, Jason Stanly, Abigail Lowe, Isabelle Lowe',\n",
       " 'Productora': 'Universal Pictures, Chernin Entertainment, Relativity Studios, Monolith Pictures, Radical Studios',\n",
       " 'Género': 'Ciencia ficción. Intriga | Futuro postapocalíptico. Distopía. Cómic',\n",
       " 'Sinopsis': 'Año 2073. Hace más de 60 años la Tierra fue atacada; se ganó la guerra, pero la mitad del planeta quedó destruido, y todos los seres humanos fueron evacuados. Jack Harper (Tom Cruise), un antiguo marine, es uno de los últimos hombres que la habitan. Es un ingeniero de Drones que participa en una operación para extraer los recursos vitales del planeta. Su misión consiste en patrullar diariamente los cielos. Un día, rescata a una desconocida de una nave espacial y, entonces, se ve obligado a replantearse sus convicciones más profundas. (FILMAFFINITY)'}"
      ]
     },
     "execution_count": 128,
     "metadata": {},
     "output_type": "execute_result"
    }
   ],
   "source": []
  },
  {
   "cell_type": "code",
   "execution_count": 134,
   "metadata": {
    "collapsed": false,
    "pycharm": {
     "name": "#%%\n"
    }
   },
   "outputs": [
    {
     "data": {
      "text/html": [
       "<div>\n",
       "<style scoped>\n",
       "    .dataframe tbody tr th:only-of-type {\n",
       "        vertical-align: middle;\n",
       "    }\n",
       "\n",
       "    .dataframe tbody tr th {\n",
       "        vertical-align: top;\n",
       "    }\n",
       "\n",
       "    .dataframe thead th {\n",
       "        text-align: right;\n",
       "    }\n",
       "</style>\n",
       "<table border=\"1\" class=\"dataframe\">\n",
       "  <thead>\n",
       "    <tr style=\"text-align: right;\">\n",
       "      <th></th>\n",
       "      <th>Título original</th>\n",
       "      <th>Año</th>\n",
       "      <th>Duración</th>\n",
       "      <th>País</th>\n",
       "      <th>Dirección</th>\n",
       "      <th>Guion</th>\n",
       "      <th>Música</th>\n",
       "      <th>Fotografía</th>\n",
       "      <th>Reparto</th>\n",
       "      <th>Productora</th>\n",
       "      <th>Género</th>\n",
       "      <th>Sinopsis</th>\n",
       "    </tr>\n",
       "  </thead>\n",
       "  <tbody>\n",
       "    <tr>\n",
       "      <th>0</th>\n",
       "      <td>Oblivion</td>\n",
       "      <td>2013</td>\n",
       "      <td>126 min.</td>\n",
       "      <td>Estados Unidos</td>\n",
       "      <td>Joseph Kosinski</td>\n",
       "      <td>Joseph Kosinski, Michael Arndt, Karl Gajdusek....</td>\n",
       "      <td>Anthony Gonzalez, M83, Joseph Trapanese</td>\n",
       "      <td>Claudio Miranda</td>\n",
       "      <td>Tom Cruise, Andrea Riseborough, Olga Kurylenko...</td>\n",
       "      <td>Universal Pictures, Chernin Entertainment, Rel...</td>\n",
       "      <td>Ciencia ficción. Intriga | Futuro postapocalíp...</td>\n",
       "      <td>Año 2073. Hace más de 60 años la Tierra fue at...</td>\n",
       "    </tr>\n",
       "  </tbody>\n",
       "</table>\n",
       "</div>"
      ],
      "text/plain": [
       "  Título original   Año  Duración             País        Dirección  \\\n",
       "0        Oblivion  2013  126 min.   Estados Unidos  Joseph Kosinski   \n",
       "\n",
       "                                               Guion  \\\n",
       "0  Joseph Kosinski, Michael Arndt, Karl Gajdusek....   \n",
       "\n",
       "                                    Música       Fotografía  \\\n",
       "0  Anthony Gonzalez, M83, Joseph Trapanese  Claudio Miranda   \n",
       "\n",
       "                                             Reparto  \\\n",
       "0  Tom Cruise, Andrea Riseborough, Olga Kurylenko...   \n",
       "\n",
       "                                          Productora  \\\n",
       "0  Universal Pictures, Chernin Entertainment, Rel...   \n",
       "\n",
       "                                              Género  \\\n",
       "0  Ciencia ficción. Intriga | Futuro postapocalíp...   \n",
       "\n",
       "                                            Sinopsis  \n",
       "0  Año 2073. Hace más de 60 años la Tierra fue at...  "
      ]
     },
     "execution_count": 134,
     "metadata": {},
     "output_type": "execute_result"
    }
   ],
   "source": [
    "#Creamos el dataframe\n",
    "\n",
    "#Añadimos datos\n"
   ]
  },
  {
   "cell_type": "markdown",
   "metadata": {},
   "source": [
    "#### EXTRA"
   ]
  },
  {
   "cell_type": "markdown",
   "metadata": {},
   "source": [
    "Abrir nueva ventana:"
   ]
  },
  {
   "cell_type": "code",
   "execution_count": 135,
   "metadata": {},
   "outputs": [],
   "source": []
  },
  {
   "cell_type": "markdown",
   "metadata": {},
   "source": [
    "Movernos a otra ventana"
   ]
  },
  {
   "cell_type": "code",
   "execution_count": 172,
   "metadata": {},
   "outputs": [],
   "source": []
  },
  {
   "cell_type": "markdown",
   "metadata": {},
   "source": [
    "Cerrar ventana"
   ]
  },
  {
   "cell_type": "code",
   "execution_count": 175,
   "metadata": {},
   "outputs": [],
   "source": []
  },
  {
   "cell_type": "markdown",
   "metadata": {},
   "source": [
    "Una vez cerramos la ventana tenemos que indicarle a qué ventana tiene que ir"
   ]
  },
  {
   "cell_type": "code",
   "execution_count": 177,
   "metadata": {},
   "outputs": [],
   "source": []
  },
  {
   "cell_type": "code",
   "execution_count": 180,
   "metadata": {},
   "outputs": [],
   "source": []
  }
 ],
 "metadata": {
  "kernelspec": {
   "display_name": "Python 3.10.6 64-bit",
   "language": "python",
   "name": "python3"
  },
  "language_info": {
   "codemirror_mode": {
    "name": "ipython",
    "version": 3
   },
   "file_extension": ".py",
   "mimetype": "text/x-python",
   "name": "python",
   "nbconvert_exporter": "python",
   "pygments_lexer": "ipython3",
   "version": "3.10.6"
  },
  "vscode": {
   "interpreter": {
    "hash": "aee8b7b246df8f9039afb4144a1f6fd8d2ca17a180786b69acc140d282b71a49"
   }
  }
 },
 "nbformat": 4,
 "nbformat_minor": 0
}

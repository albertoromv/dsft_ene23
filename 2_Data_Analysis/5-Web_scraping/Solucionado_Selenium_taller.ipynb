{
 "cells": [
  {
   "cell_type": "markdown",
   "metadata": {
    "collapsed": false,
    "pycharm": {
     "name": "#%% md\n"
    }
   },
   "source": [
    "# Web Scraping con Selenium\n",
    "\n",
    "##### Vamos a ver como acceder a una web creando un bot con la librería Selenium que interactuará con la página\n",
    "\n",
    "^Daniel Vivas - Data Science Teacher Assistant - DS Abril 2022^"
   ]
  },
  {
   "cell_type": "markdown",
   "metadata": {
    "collapsed": false,
    "pycharm": {
     "name": "#%% md\n"
    }
   },
   "source": [
    "## 1. Instalación de librerías\n",
    "\n",
    "Tenemos que usar las librerías Selenium y Webdriver_manager. Vamos a instalarlas:"
   ]
  },
  {
   "cell_type": "code",
   "execution_count": 1,
   "metadata": {
    "collapsed": false,
    "pycharm": {
     "name": "#%%\n"
    }
   },
   "outputs": [
    {
     "name": "stdout",
     "output_type": "stream",
     "text": [
      "Requirement already satisfied: selenium in c:\\users\\jamf1\\appdata\\local\\programs\\python\\python37\\lib\\site-packages (4.1.2)\n",
      "Requirement already satisfied: trio-websocket~=0.9 in c:\\users\\jamf1\\appdata\\local\\programs\\python\\python37\\lib\\site-packages (from selenium) (0.9.2)\n",
      "Requirement already satisfied: urllib3[secure,socks]~=1.26 in c:\\users\\jamf1\\appdata\\roaming\\python\\python37\\site-packages (from selenium) (1.26.9)\n",
      "Requirement already satisfied: trio~=0.17 in c:\\users\\jamf1\\appdata\\local\\programs\\python\\python37\\lib\\site-packages (from selenium) (0.20.0)\n",
      "Requirement already satisfied: idna in c:\\users\\jamf1\\appdata\\roaming\\python\\python37\\site-packages (from trio~=0.17->selenium) (3.3)\n",
      "Requirement already satisfied: sortedcontainers in c:\\users\\jamf1\\appdata\\local\\programs\\python\\python37\\lib\\site-packages (from trio~=0.17->selenium) (2.4.0)\n",
      "Requirement already satisfied: attrs>=19.2.0 in c:\\users\\jamf1\\appdata\\local\\programs\\python\\python37\\lib\\site-packages (from trio~=0.17->selenium) (21.4.0)\n",
      "Requirement already satisfied: async-generator>=1.9 in c:\\users\\jamf1\\appdata\\local\\programs\\python\\python37\\lib\\site-packages (from trio~=0.17->selenium) (1.10)\n",
      "Requirement already satisfied: sniffio in c:\\users\\jamf1\\appdata\\local\\programs\\python\\python37\\lib\\site-packages (from trio~=0.17->selenium) (1.2.0)\n",
      "Requirement already satisfied: outcome in c:\\users\\jamf1\\appdata\\local\\programs\\python\\python37\\lib\\site-packages (from trio~=0.17->selenium) (1.1.0)\n",
      "Requirement already satisfied: cffi>=1.14 in c:\\users\\jamf1\\appdata\\local\\programs\\python\\python37\\lib\\site-packages (from trio~=0.17->selenium) (1.15.0)\n",
      "Requirement already satisfied: wsproto>=0.14 in c:\\users\\jamf1\\appdata\\local\\programs\\python\\python37\\lib\\site-packages (from trio-websocket~=0.9->selenium) (1.1.0)\n",
      "Requirement already satisfied: PySocks!=1.5.7,<2.0,>=1.5.6 in c:\\users\\jamf1\\appdata\\local\\programs\\python\\python37\\lib\\site-packages (from urllib3[secure,socks]~=1.26->selenium) (1.7.1)\n",
      "Requirement already satisfied: cryptography>=1.3.4 in c:\\users\\jamf1\\appdata\\local\\programs\\python\\python37\\lib\\site-packages (from urllib3[secure,socks]~=1.26->selenium) (36.0.1)\n",
      "Requirement already satisfied: certifi in c:\\users\\jamf1\\appdata\\roaming\\python\\python37\\site-packages (from urllib3[secure,socks]~=1.26->selenium) (2021.10.8)\n",
      "Requirement already satisfied: pyOpenSSL>=0.14 in c:\\users\\jamf1\\appdata\\local\\programs\\python\\python37\\lib\\site-packages (from urllib3[secure,socks]~=1.26->selenium) (22.0.0)\n",
      "Requirement already satisfied: pycparser in c:\\users\\jamf1\\appdata\\local\\programs\\python\\python37\\lib\\site-packages (from cffi>=1.14->trio~=0.17->selenium) (2.21)\n",
      "Requirement already satisfied: h11<1,>=0.9.0 in c:\\users\\jamf1\\appdata\\local\\programs\\python\\python37\\lib\\site-packages (from wsproto>=0.14->trio-websocket~=0.9->selenium) (0.13.0)\n",
      "Requirement already satisfied: typing-extensions in c:\\users\\jamf1\\appdata\\roaming\\python\\python37\\site-packages (from h11<1,>=0.9.0->wsproto>=0.14->trio-websocket~=0.9->selenium) (4.2.0)\n"
     ]
    }
   ],
   "source": [
    "!pip install selenium\n",
    "!pip install webdriver_manager"
   ]
  },
  {
   "cell_type": "markdown",
   "metadata": {
    "collapsed": false,
    "pycharm": {
     "name": "#%% md\n"
    }
   },
   "source": [
    "## 2. Importación de las librerías"
   ]
  },
  {
   "cell_type": "code",
   "execution_count": 1,
   "metadata": {
    "collapsed": false,
    "pycharm": {
     "name": "#%%\n"
    }
   },
   "outputs": [],
   "source": [
    "#Para la manipulación de datos\n",
    "import pandas as pd\n",
    "\n",
    "#Servicio y driver de Chrome de Selenium\n",
    "from selenium import webdriver\n",
    "from selenium.webdriver.chrome.service import Service\n",
    "from webdriver_manager.chrome import ChromeDriverManager\n",
    "\n",
    "#Las opciones que vamos a tener para buscar elementos\n",
    "from selenium.webdriver.common.by import By\n",
    "\n",
    "#Para cuando queramos mandar pulsaciones de teclado\n",
    "from selenium.webdriver.common.keys import Keys\n",
    "\n",
    "#Hacemos que espere\n",
    "import time\n"
   ]
  },
  {
   "cell_type": "markdown",
   "metadata": {
    "collapsed": false,
    "pycharm": {
     "name": "#%% md\n"
    }
   },
   "source": [
    "## 3. Instalación del webdriver\n",
    "\n",
    "El webdriver es lo que nos va a permitir conectarnos con el navegador. Lo instalamos:"
   ]
  },
  {
   "cell_type": "code",
   "execution_count": 2,
   "metadata": {
    "collapsed": false,
    "pycharm": {
     "name": "#%%\n"
    }
   },
   "outputs": [
    {
     "name": "stderr",
     "output_type": "stream",
     "text": [
      "[WDM] - Downloading: 100%|██████████| 8.82M/8.82M [00:01<00:00, 7.58MB/s]\n"
     ]
    }
   ],
   "source": [
    "service = Service(ChromeDriverManager().install())\n",
    "driver = webdriver.Chrome(service=service)"
   ]
  },
  {
   "cell_type": "markdown",
   "metadata": {
    "collapsed": false,
    "pycharm": {
     "name": "#%% md\n"
    }
   },
   "source": [
    "## 4. Abrir web\n",
    "Abrimos la web en el driver ya podemos navegar y acceder a los elementos de la página"
   ]
  },
  {
   "cell_type": "code",
   "execution_count": 3,
   "metadata": {
    "collapsed": false,
    "pycharm": {
     "is_executing": true,
     "name": "#%%\n"
    }
   },
   "outputs": [],
   "source": [
    "url = \"https://www.filmaffinity.com\"\n",
    "driver.get(url)"
   ]
  },
  {
   "cell_type": "markdown",
   "metadata": {
    "collapsed": false,
    "pycharm": {
     "name": "#%% md\n"
    }
   },
   "source": [
    "## 5. Scrapeo\n",
    "Empezamos lo interesante:"
   ]
  },
  {
   "cell_type": "markdown",
   "metadata": {
    "collapsed": false,
    "pycharm": {
     "name": "#%% md\n"
    }
   },
   "source": [
    "Podemos acceder a elementos en la página de varias maneras:\n",
    "- Nombre de la etiqueta\n",
    "- Atributo: Clase\n",
    "- Atributo: ID\n",
    "- Atributo: Name\n",
    "- Selector: Xpath\n",
    "- Selector: CSS Selector\n",
    "\n",
    "Para ello vamos a usar el driver que hemos creado y el By."
   ]
  },
  {
   "cell_type": "markdown",
   "metadata": {
    "collapsed": false,
    "pycharm": {
     "name": "#%% md\n"
    }
   },
   "source": [
    "##### Beginner Selenium Cheatsheet:\n",
    "Sacar un elemento:\n",
    "- element = driver.find_element(by, value)\n",
    "\n",
    "Sacar varios elementos:\n",
    "- element = driver.find_elements(by, value)\n",
    "\n",
    "Sacar atributos:\n",
    "- attribute = element.--el atributo--\n",
    "- attribute = element.get_attribute(--el atributo--)\n",
    "\n",
    "Hacer click:\n",
    "- element.click()\n",
    "\n",
    "Teclear:\n",
    "- element.send_keys()\n",
    "\n",
    "Gestión de pestañas:\n",
    "- driver.switch_to.window(driver.window_handles[-1])\n",
    "- driver.get(url)\n",
    "- driver.close()"
   ]
  },
  {
   "cell_type": "markdown",
   "metadata": {
    "collapsed": false,
    "pycharm": {
     "name": "#%% md\n"
    }
   },
   "source": [
    "Vemos que hay un popup pidiendo que aceptemos las cookies. ¡Vamos a aceptarlo!"
   ]
  },
  {
   "cell_type": "code",
   "execution_count": 15,
   "metadata": {},
   "outputs": [
    {
     "name": "stdout",
     "output_type": "stream",
     "text": [
      "<class 'list'>\n",
      "MÁS OPCIONES\n",
      "ACEPTO\n"
     ]
    }
   ],
   "source": [
    "# Encontrar elementos por etiqueta html\n",
    "elements_by_tag = driver.find_elements(By.TAG_NAME, 'button')\n",
    "print(type(elements_by_tag))\n",
    "\n",
    "# Encontrar elementos por clase\n",
    "element_by_class_name = driver.find_element(By.CLASS_NAME,'css-2tkghh')\n",
    "print(element_by_class_name.text)\n",
    "\n",
    "# Encontrar elementos por XPATH\n",
    "element_by_xpath = driver.find_element(By.XPATH,'//*[@id=\"qc-cmp2-ui\"]/div[2]/div/button[2]')\n",
    "print(element_by_xpath.text)\n"
   ]
  },
  {
   "cell_type": "markdown",
   "metadata": {},
   "source": [
    "### Dos formas de obtener todos los botones"
   ]
  },
  {
   "cell_type": "markdown",
   "metadata": {},
   "source": [
    "Recorriendo la lista"
   ]
  },
  {
   "cell_type": "code",
   "execution_count": 12,
   "metadata": {},
   "outputs": [
    {
     "name": "stdout",
     "output_type": "stream",
     "text": [
      "socios\n",
      "MÁS OPCIONES\n",
      "ACEPTO\n"
     ]
    }
   ],
   "source": [
    "for i in elements_by_tag:\n",
    "    print(i.text)"
   ]
  },
  {
   "cell_type": "markdown",
   "metadata": {},
   "source": [
    "Recorriendo los índices"
   ]
  },
  {
   "cell_type": "code",
   "execution_count": 14,
   "metadata": {},
   "outputs": [
    {
     "name": "stdout",
     "output_type": "stream",
     "text": [
      "3\n",
      "socios\n",
      "MÁS OPCIONES\n",
      "ACEPTO\n"
     ]
    }
   ],
   "source": [
    "print(len(elements_by_tag))\n",
    "for i in range(len(elements_by_tag)):\n",
    "    print(elements_by_tag[i].text)"
   ]
  },
  {
   "cell_type": "code",
   "execution_count": 20,
   "metadata": {
    "collapsed": false,
    "pycharm": {
     "name": "#%%\n"
    }
   },
   "outputs": [
    {
     "name": "stdout",
     "output_type": "stream",
     "text": [
      "Etiqueta: button\n",
      "Texto de la etiqueta: ACEPTO\n",
      "Atributo mode: primary\n",
      "Atributo size: large\n"
     ]
    }
   ],
   "source": [
    "#Primero, seleccionamos el botón\n",
    "accept = driver.find_element(By.CLASS_NAME, 'css-v43ltw')\n",
    "\n",
    "#Nos aseguramos de que es el botón que estamos buscando\n",
    "\n",
    "print(\"Etiqueta: {}\".format(accept.tag_name))\n",
    "print(\"Texto de la etiqueta: {}\".format(accept.text))\n",
    "print(\"Atributo mode: {}\".format(accept.get_attribute('mode')))\n",
    "print(\"Atributo size: {}\".format(accept.get_attribute('size')))\n",
    "\n",
    "#Hacemos click\n",
    "accept.click()"
   ]
  },
  {
   "cell_type": "markdown",
   "metadata": {
    "collapsed": false,
    "pycharm": {
     "name": "#%% md\n"
    }
   },
   "source": [
    "Hacemos la búsqueda de una película"
   ]
  },
  {
   "cell_type": "code",
   "execution_count": 21,
   "metadata": {},
   "outputs": [
    {
     "data": {
      "text/plain": [
       "<selenium.webdriver.remote.webelement.WebElement (session=\"3e4da2cb14242f1f4db64b71406db795\", element=\"e30955f7-ac7e-4b79-bbef-8ebdd083e0ce\")>"
      ]
     },
     "execution_count": 21,
     "metadata": {},
     "output_type": "execute_result"
    }
   ],
   "source": [
    "#Búsqueda por etiqueta\n",
    "search = driver.find_element(By.TAG_NAME, 'input')\n",
    "search"
   ]
  },
  {
   "cell_type": "code",
   "execution_count": 22,
   "metadata": {},
   "outputs": [
    {
     "data": {
      "text/plain": [
       "<selenium.webdriver.remote.webelement.WebElement (session=\"3e4da2cb14242f1f4db64b71406db795\", element=\"e30955f7-ac7e-4b79-bbef-8ebdd083e0ce\")>"
      ]
     },
     "execution_count": 22,
     "metadata": {},
     "output_type": "execute_result"
    }
   ],
   "source": [
    "#Búsqueda por ID. Buscamos la barra de navegación de la página web\n",
    "search = driver.find_element(By.ID, 'top-search-input')\n",
    "search"
   ]
  },
  {
   "cell_type": "code",
   "execution_count": 23,
   "metadata": {},
   "outputs": [],
   "source": [
    "#Teclea contenido dentro de la barra.\n",
    "search.send_keys('Oblivion')"
   ]
  },
  {
   "cell_type": "code",
   "execution_count": 24,
   "metadata": {},
   "outputs": [],
   "source": [
    "# limpiar la barra de búsqueda\n",
    "search.clear()"
   ]
  },
  {
   "cell_type": "code",
   "execution_count": null,
   "metadata": {},
   "outputs": [],
   "source": [
    "#Para asegurarnos, podemos hacer una captura del elemento\n",
    "search.screenshot('buscador.png')"
   ]
  },
  {
   "cell_type": "code",
   "execution_count": 25,
   "metadata": {
    "collapsed": false,
    "pycharm": {
     "name": "#%%\n"
    }
   },
   "outputs": [],
   "source": [
    "#Introducimos el nombre de la película a buscar\n",
    "search.send_keys('Oblivion')\n",
    "\n",
    "#Espera 5 segundos\n",
    "time.sleep(5)\n",
    "\n",
    "#Pulsamos intro\n",
    "search.send_keys(Keys.ENTER)\n"
   ]
  },
  {
   "cell_type": "markdown",
   "metadata": {
    "collapsed": false,
    "pycharm": {
     "name": "#%% md\n"
    }
   },
   "source": [
    "Entramos en el primer resultado"
   ]
  },
  {
   "cell_type": "code",
   "execution_count": 28,
   "metadata": {
    "collapsed": false,
    "pycharm": {
     "name": "#%%\n"
    }
   },
   "outputs": [
    {
     "data": {
      "text/plain": [
       "<selenium.webdriver.remote.webelement.WebElement (session=\"3e4da2cb14242f1f4db64b71406db795\", element=\"1b7e8057-8fbc-4f78-9e89-61c6c953a841\")>"
      ]
     },
     "execution_count": 28,
     "metadata": {},
     "output_type": "execute_result"
    }
   ],
   "source": [
    "#Accedemos al bloque que vemos que se repite. Podemos sacar la lista...\n",
    "movie = driver.find_elements(By.CLASS_NAME, 'se-it')[0]\n",
    "\n",
    "\n",
    "#...o podemos directamente el primer resultado\n",
    "movie = driver.find_element(By.CLASS_NAME, 'se-it')\n",
    "movie"
   ]
  },
  {
   "cell_type": "code",
   "execution_count": 29,
   "metadata": {},
   "outputs": [],
   "source": [
    "#Accedemos mediante un selector CSS al elemento a, que contiene el enlace (texto)\n",
    "url = movie.find_element(By.CSS_SELECTOR, 'div.mc-title a')\n",
    "'div.mc-title a'\n",
    "'div.mc-info-container a'\n",
    "#Accedemos mediante un selector CSS al elemento a, que contiene el enlace (texto) desde el padre\n",
    "url = movie.find_element(By.CSS_SELECTOR, 'div.mc-info-container a')\n"
   ]
  },
  {
   "cell_type": "code",
   "execution_count": 33,
   "metadata": {},
   "outputs": [
    {
     "data": {
      "text/plain": [
       "'Oblivion'"
      ]
     },
     "execution_count": 33,
     "metadata": {},
     "output_type": "execute_result"
    }
   ],
   "source": [
    "#Accedemos mediante la clase al elemento a, que contiene el enlace (texto)\n",
    "url_titulo = movie.find_element(By.CLASS_NAME, 'mc-title')\n",
    "url=url_titulo.find_element(By.TAG_NAME, 'a')\n",
    "url.text"
   ]
  },
  {
   "cell_type": "code",
   "execution_count": 34,
   "metadata": {},
   "outputs": [],
   "source": [
    "url_poster = movie.find_element(by=By.CLASS_NAME, value='mc-poster')\n",
    "url = url_poster.find_element(By.TAG_NAME, value=\"a\")"
   ]
  },
  {
   "cell_type": "code",
   "execution_count": 35,
   "metadata": {},
   "outputs": [
    {
     "name": "stdout",
     "output_type": "stream",
     "text": [
      "https://www.filmaffinity.com/es/film618375.html\n"
     ]
    }
   ],
   "source": [
    "#Guardamos el enlace\n",
    "link = url.get_attribute('href')\n",
    "print(link)"
   ]
  },
  {
   "cell_type": "code",
   "execution_count": 36,
   "metadata": {},
   "outputs": [],
   "source": [
    "#Hacemos click\n",
    "url.click()"
   ]
  },
  {
   "cell_type": "code",
   "execution_count": 48,
   "metadata": {},
   "outputs": [],
   "source": [
    "#Volver\n",
    "#driver.back()"
   ]
  },
  {
   "cell_type": "markdown",
   "metadata": {
    "collapsed": false,
    "pycharm": {
     "name": "#%% md\n"
    }
   },
   "source": [
    "Vamos a sacar los datos principales de la película:"
   ]
  },
  {
   "cell_type": "code",
   "execution_count": 41,
   "metadata": {
    "collapsed": false,
    "pycharm": {
     "name": "#%%\n"
    }
   },
   "outputs": [
    {
     "name": "stdout",
     "output_type": "stream",
     "text": [
      "Título original - Oblivion\n",
      "Año - 2013\n",
      "Duración - 126 min.\n",
      "País -  Estados Unidos\n",
      "Dirección - Joseph Kosinski\n",
      "Guion - Joseph Kosinski, Michael Arndt, Karl Gajdusek. Cómic: Joseph Kosinski, Arvid Nelson\n",
      "Música - Anthony Gonzalez, M83, Joseph Trapanese\n",
      "Fotografía - Claudio Miranda\n",
      "Reparto - Tom Cruise, Andrea Riseborough, Olga Kurylenko, Morgan Freeman, Nikolaj Coster-Waldau, Zoe Bell, Melissa Leo, Jaylen Moore, Julie Hardin, Paul Gunawan, ver 4 más\n",
      "Compañías - Universal Pictures, Chernin Entertainment, Relativity Studios, Monolith Pictures, Radical Studios\n",
      "Género - Ciencia ficción. Intriga | Futuro postapocalíptico. Distopía. Cómic\n",
      "Sinopsis - Año 2073. Hace más de 60 años la Tierra fue atacada; se ganó la guerra, pero la mitad del planeta quedó destruido, y todos los seres humanos fueron evacuados. Jack Harper (Tom Cruise), un antiguo marine, es uno de los últimos hombres que la habitan. Es un ingeniero de Drones que participa en una operación para extraer los recursos vitales del planeta. Su misión consiste en patrullar diariamente los cielos. Un día, rescata a una desconocida de una nave espacial y, entonces, se ve obligado a replantearse sus convicciones más profundas. (FILMAFFINITY)\n"
     ]
    }
   ],
   "source": [
    "data = driver.find_element(By.CLASS_NAME, 'movie-info')\n",
    "dts = data.find_elements(By.TAG_NAME, 'dt')\n",
    "dds = data.find_elements(By.TAG_NAME, 'dd')\n",
    "\n",
    "#len(dts) == len(dds)\n",
    "movie_dict = dict()\n",
    "for i in range(len(dts)):\n",
    "    movie_dict[dts[i].text] = dds[i].text\n",
    "    print(f\"{dts[i].text} - {dds[i].text}\")"
   ]
  },
  {
   "cell_type": "markdown",
   "metadata": {
    "collapsed": false,
    "pycharm": {
     "name": "#%% md\n"
    }
   },
   "source": [
    "Creamos un dataframe y metemos los datos"
   ]
  },
  {
   "cell_type": "code",
   "execution_count": 128,
   "metadata": {},
   "outputs": [
    {
     "data": {
      "text/plain": [
       "{'Título original': 'Oblivion',\n",
       " 'Año': '2013',\n",
       " 'Duración': '126 min.',\n",
       " 'País': ' Estados Unidos',\n",
       " 'Dirección': 'Joseph Kosinski',\n",
       " 'Guion': 'Joseph Kosinski, Michael Arndt, Karl Gajdusek. Cómic: Joseph Kosinski, Arvid Nelson',\n",
       " 'Música': 'Anthony Gonzalez, M83, Joseph Trapanese',\n",
       " 'Fotografía': 'Claudio Miranda',\n",
       " 'Reparto': 'Tom Cruise, Andrea Riseborough, Olga Kurylenko, Morgan Freeman, Nikolaj Coster-Waldau, Zoe Bell, Melissa Leo, Jaylen Moore, Julie Hardin, Paul Gunawan, Jay Oliver, Jason Stanly, Abigail Lowe, Isabelle Lowe',\n",
       " 'Productora': 'Universal Pictures, Chernin Entertainment, Relativity Studios, Monolith Pictures, Radical Studios',\n",
       " 'Género': 'Ciencia ficción. Intriga | Futuro postapocalíptico. Distopía. Cómic',\n",
       " 'Sinopsis': 'Año 2073. Hace más de 60 años la Tierra fue atacada; se ganó la guerra, pero la mitad del planeta quedó destruido, y todos los seres humanos fueron evacuados. Jack Harper (Tom Cruise), un antiguo marine, es uno de los últimos hombres que la habitan. Es un ingeniero de Drones que participa en una operación para extraer los recursos vitales del planeta. Su misión consiste en patrullar diariamente los cielos. Un día, rescata a una desconocida de una nave espacial y, entonces, se ve obligado a replantearse sus convicciones más profundas. (FILMAFFINITY)'}"
      ]
     },
     "execution_count": 128,
     "metadata": {},
     "output_type": "execute_result"
    }
   ],
   "source": []
  },
  {
   "cell_type": "code",
   "execution_count": 42,
   "metadata": {},
   "outputs": [
    {
     "data": {
      "text/plain": [
       "{'Título original': 'Oblivion',\n",
       " 'Año': '2013',\n",
       " 'Duración': '126 min.',\n",
       " 'País': ' Estados Unidos',\n",
       " 'Dirección': 'Joseph Kosinski',\n",
       " 'Guion': 'Joseph Kosinski, Michael Arndt, Karl Gajdusek. Cómic: Joseph Kosinski, Arvid Nelson',\n",
       " 'Música': 'Anthony Gonzalez, M83, Joseph Trapanese',\n",
       " 'Fotografía': 'Claudio Miranda',\n",
       " 'Reparto': 'Tom Cruise, Andrea Riseborough, Olga Kurylenko, Morgan Freeman, Nikolaj Coster-Waldau, Zoe Bell, Melissa Leo, Jaylen Moore, Julie Hardin, Paul Gunawan, ver 4 más',\n",
       " 'Compañías': 'Universal Pictures, Chernin Entertainment, Relativity Studios, Monolith Pictures, Radical Studios',\n",
       " 'Género': 'Ciencia ficción. Intriga | Futuro postapocalíptico. Distopía. Cómic',\n",
       " 'Sinopsis': 'Año 2073. Hace más de 60 años la Tierra fue atacada; se ganó la guerra, pero la mitad del planeta quedó destruido, y todos los seres humanos fueron evacuados. Jack Harper (Tom Cruise), un antiguo marine, es uno de los últimos hombres que la habitan. Es un ingeniero de Drones que participa en una operación para extraer los recursos vitales del planeta. Su misión consiste en patrullar diariamente los cielos. Un día, rescata a una desconocida de una nave espacial y, entonces, se ve obligado a replantearse sus convicciones más profundas. (FILMAFFINITY)'}"
      ]
     },
     "execution_count": 42,
     "metadata": {},
     "output_type": "execute_result"
    }
   ],
   "source": [
    "movie_dict"
   ]
  },
  {
   "cell_type": "code",
   "execution_count": 43,
   "metadata": {
    "collapsed": false,
    "pycharm": {
     "name": "#%%\n"
    }
   },
   "outputs": [
    {
     "name": "stderr",
     "output_type": "stream",
     "text": [
      "/var/folders/6g/cf_j0b453g7fk51dd_1wyyzr0000gn/T/ipykernel_36715/3257330406.py:4: FutureWarning: The frame.append method is deprecated and will be removed from pandas in a future version. Use pandas.concat instead.\n",
      "  df = df.append(movie_dict, ignore_index = True)\n"
     ]
    },
    {
     "data": {
      "text/html": [
       "<div>\n",
       "<style scoped>\n",
       "    .dataframe tbody tr th:only-of-type {\n",
       "        vertical-align: middle;\n",
       "    }\n",
       "\n",
       "    .dataframe tbody tr th {\n",
       "        vertical-align: top;\n",
       "    }\n",
       "\n",
       "    .dataframe thead th {\n",
       "        text-align: right;\n",
       "    }\n",
       "</style>\n",
       "<table border=\"1\" class=\"dataframe\">\n",
       "  <thead>\n",
       "    <tr style=\"text-align: right;\">\n",
       "      <th></th>\n",
       "      <th>Título original</th>\n",
       "      <th>Año</th>\n",
       "      <th>Duración</th>\n",
       "      <th>País</th>\n",
       "      <th>Dirección</th>\n",
       "      <th>Guion</th>\n",
       "      <th>Música</th>\n",
       "      <th>Fotografía</th>\n",
       "      <th>Reparto</th>\n",
       "      <th>Compañías</th>\n",
       "      <th>Género</th>\n",
       "      <th>Sinopsis</th>\n",
       "    </tr>\n",
       "  </thead>\n",
       "  <tbody>\n",
       "    <tr>\n",
       "      <th>0</th>\n",
       "      <td>Oblivion</td>\n",
       "      <td>2013</td>\n",
       "      <td>126 min.</td>\n",
       "      <td>Estados Unidos</td>\n",
       "      <td>Joseph Kosinski</td>\n",
       "      <td>Joseph Kosinski, Michael Arndt, Karl Gajdusek....</td>\n",
       "      <td>Anthony Gonzalez, M83, Joseph Trapanese</td>\n",
       "      <td>Claudio Miranda</td>\n",
       "      <td>Tom Cruise, Andrea Riseborough, Olga Kurylenko...</td>\n",
       "      <td>Universal Pictures, Chernin Entertainment, Rel...</td>\n",
       "      <td>Ciencia ficción. Intriga | Futuro postapocalíp...</td>\n",
       "      <td>Año 2073. Hace más de 60 años la Tierra fue at...</td>\n",
       "    </tr>\n",
       "  </tbody>\n",
       "</table>\n",
       "</div>"
      ],
      "text/plain": [
       "  Título original   Año  Duración             País        Dirección  \\\n",
       "0        Oblivion  2013  126 min.   Estados Unidos  Joseph Kosinski   \n",
       "\n",
       "                                               Guion  \\\n",
       "0  Joseph Kosinski, Michael Arndt, Karl Gajdusek....   \n",
       "\n",
       "                                    Música       Fotografía  \\\n",
       "0  Anthony Gonzalez, M83, Joseph Trapanese  Claudio Miranda   \n",
       "\n",
       "                                             Reparto  \\\n",
       "0  Tom Cruise, Andrea Riseborough, Olga Kurylenko...   \n",
       "\n",
       "                                           Compañías  \\\n",
       "0  Universal Pictures, Chernin Entertainment, Rel...   \n",
       "\n",
       "                                              Género  \\\n",
       "0  Ciencia ficción. Intriga | Futuro postapocalíp...   \n",
       "\n",
       "                                            Sinopsis  \n",
       "0  Año 2073. Hace más de 60 años la Tierra fue at...  "
      ]
     },
     "execution_count": 43,
     "metadata": {},
     "output_type": "execute_result"
    }
   ],
   "source": [
    "#Creamos el dataframe\n",
    "df = pd.DataFrame(columns = movie_dict.keys())\n",
    "#Añadimos datos\n",
    "df = df.append(movie_dict, ignore_index = True)\n",
    "df"
   ]
  },
  {
   "cell_type": "code",
   "execution_count": 44,
   "metadata": {},
   "outputs": [
    {
     "data": {
      "text/html": [
       "<div>\n",
       "<style scoped>\n",
       "    .dataframe tbody tr th:only-of-type {\n",
       "        vertical-align: middle;\n",
       "    }\n",
       "\n",
       "    .dataframe tbody tr th {\n",
       "        vertical-align: top;\n",
       "    }\n",
       "\n",
       "    .dataframe thead th {\n",
       "        text-align: right;\n",
       "    }\n",
       "</style>\n",
       "<table border=\"1\" class=\"dataframe\">\n",
       "  <thead>\n",
       "    <tr style=\"text-align: right;\">\n",
       "      <th></th>\n",
       "      <th>Título original</th>\n",
       "      <th>Año</th>\n",
       "      <th>Duración</th>\n",
       "      <th>País</th>\n",
       "      <th>Dirección</th>\n",
       "      <th>Guion</th>\n",
       "      <th>Música</th>\n",
       "      <th>Fotografía</th>\n",
       "      <th>Reparto</th>\n",
       "      <th>Compañías</th>\n",
       "      <th>Género</th>\n",
       "      <th>Sinopsis</th>\n",
       "    </tr>\n",
       "  </thead>\n",
       "  <tbody>\n",
       "    <tr>\n",
       "      <th>0</th>\n",
       "      <td>Oblivion</td>\n",
       "      <td>2013</td>\n",
       "      <td>126 min.</td>\n",
       "      <td>Estados Unidos</td>\n",
       "      <td>Joseph Kosinski</td>\n",
       "      <td>Joseph Kosinski, Michael Arndt, Karl Gajdusek....</td>\n",
       "      <td>Anthony Gonzalez, M83, Joseph Trapanese</td>\n",
       "      <td>Claudio Miranda</td>\n",
       "      <td>Tom Cruise, Andrea Riseborough, Olga Kurylenko...</td>\n",
       "      <td>Universal Pictures, Chernin Entertainment, Rel...</td>\n",
       "      <td>Ciencia ficción. Intriga | Futuro postapocalíp...</td>\n",
       "      <td>Año 2073. Hace más de 60 años la Tierra fue at...</td>\n",
       "    </tr>\n",
       "  </tbody>\n",
       "</table>\n",
       "</div>"
      ],
      "text/plain": [
       "  Título original   Año  Duración             País        Dirección  \\\n",
       "0        Oblivion  2013  126 min.   Estados Unidos  Joseph Kosinski   \n",
       "\n",
       "                                               Guion  \\\n",
       "0  Joseph Kosinski, Michael Arndt, Karl Gajdusek....   \n",
       "\n",
       "                                    Música       Fotografía  \\\n",
       "0  Anthony Gonzalez, M83, Joseph Trapanese  Claudio Miranda   \n",
       "\n",
       "                                             Reparto  \\\n",
       "0  Tom Cruise, Andrea Riseborough, Olga Kurylenko...   \n",
       "\n",
       "                                           Compañías  \\\n",
       "0  Universal Pictures, Chernin Entertainment, Rel...   \n",
       "\n",
       "                                              Género  \\\n",
       "0  Ciencia ficción. Intriga | Futuro postapocalíp...   \n",
       "\n",
       "                                            Sinopsis  \n",
       "0  Año 2073. Hace más de 60 años la Tierra fue at...  "
      ]
     },
     "execution_count": 44,
     "metadata": {},
     "output_type": "execute_result"
    }
   ],
   "source": [
    "df = pd.DataFrame(columns=movie_dict.keys())\n",
    "df_new = pd.concat([df, pd.DataFrame.from_records([movie_dict])])\n",
    "#mirar documentación\n",
    "df_new"
   ]
  },
  {
   "cell_type": "code",
   "execution_count": 45,
   "metadata": {},
   "outputs": [
    {
     "data": {
      "text/html": [
       "<div>\n",
       "<style scoped>\n",
       "    .dataframe tbody tr th:only-of-type {\n",
       "        vertical-align: middle;\n",
       "    }\n",
       "\n",
       "    .dataframe tbody tr th {\n",
       "        vertical-align: top;\n",
       "    }\n",
       "\n",
       "    .dataframe thead th {\n",
       "        text-align: right;\n",
       "    }\n",
       "</style>\n",
       "<table border=\"1\" class=\"dataframe\">\n",
       "  <thead>\n",
       "    <tr style=\"text-align: right;\">\n",
       "      <th></th>\n",
       "      <th>Título original</th>\n",
       "      <th>Año</th>\n",
       "      <th>Duración</th>\n",
       "      <th>País</th>\n",
       "      <th>Dirección</th>\n",
       "      <th>Guion</th>\n",
       "      <th>Música</th>\n",
       "      <th>Fotografía</th>\n",
       "      <th>Reparto</th>\n",
       "      <th>Compañías</th>\n",
       "      <th>Género</th>\n",
       "      <th>Sinopsis</th>\n",
       "    </tr>\n",
       "  </thead>\n",
       "  <tbody>\n",
       "    <tr>\n",
       "      <th>0</th>\n",
       "      <td>Oblivion</td>\n",
       "      <td>2013</td>\n",
       "      <td>126 min.</td>\n",
       "      <td>Estados Unidos</td>\n",
       "      <td>Joseph Kosinski</td>\n",
       "      <td>Joseph Kosinski, Michael Arndt, Karl Gajdusek....</td>\n",
       "      <td>Anthony Gonzalez, M83, Joseph Trapanese</td>\n",
       "      <td>Claudio Miranda</td>\n",
       "      <td>Tom Cruise, Andrea Riseborough, Olga Kurylenko...</td>\n",
       "      <td>Universal Pictures, Chernin Entertainment, Rel...</td>\n",
       "      <td>Ciencia ficción. Intriga | Futuro postapocalíp...</td>\n",
       "      <td>Año 2073. Hace más de 60 años la Tierra fue at...</td>\n",
       "    </tr>\n",
       "  </tbody>\n",
       "</table>\n",
       "</div>"
      ],
      "text/plain": [
       "  Título original   Año  Duración             País        Dirección  \\\n",
       "0        Oblivion  2013  126 min.   Estados Unidos  Joseph Kosinski   \n",
       "\n",
       "                                               Guion  \\\n",
       "0  Joseph Kosinski, Michael Arndt, Karl Gajdusek....   \n",
       "\n",
       "                                    Música       Fotografía  \\\n",
       "0  Anthony Gonzalez, M83, Joseph Trapanese  Claudio Miranda   \n",
       "\n",
       "                                             Reparto  \\\n",
       "0  Tom Cruise, Andrea Riseborough, Olga Kurylenko...   \n",
       "\n",
       "                                           Compañías  \\\n",
       "0  Universal Pictures, Chernin Entertainment, Rel...   \n",
       "\n",
       "                                              Género  \\\n",
       "0  Ciencia ficción. Intriga | Futuro postapocalíp...   \n",
       "\n",
       "                                            Sinopsis  \n",
       "0  Año 2073. Hace más de 60 años la Tierra fue at...  "
      ]
     },
     "execution_count": 45,
     "metadata": {},
     "output_type": "execute_result"
    }
   ],
   "source": [
    "df= pd.DataFrame(columns=movie_dict.keys())\n",
    "df_new_row = pd.DataFrame([movie_dict])\n",
    "df_final = pd.concat([df, df_new_row])\n",
    "df_final"
   ]
  },
  {
   "cell_type": "markdown",
   "metadata": {},
   "source": [
    "#### EXTRA"
   ]
  },
  {
   "cell_type": "markdown",
   "metadata": {},
   "source": [
    "Abrir nueva ventana:"
   ]
  },
  {
   "cell_type": "code",
   "execution_count": 46,
   "metadata": {},
   "outputs": [],
   "source": [
    "driver.execute_script('window.open(\"\");')"
   ]
  },
  {
   "cell_type": "markdown",
   "metadata": {},
   "source": [
    "Movernos a otra ventana"
   ]
  },
  {
   "cell_type": "code",
   "execution_count": 49,
   "metadata": {},
   "outputs": [],
   "source": [
    "driver.switch_to.window(driver.window_handles[-1])"
   ]
  },
  {
   "cell_type": "markdown",
   "metadata": {},
   "source": [
    "Cerrar ventana"
   ]
  },
  {
   "cell_type": "code",
   "execution_count": 50,
   "metadata": {},
   "outputs": [],
   "source": [
    "driver.close()"
   ]
  },
  {
   "cell_type": "markdown",
   "metadata": {},
   "source": [
    "Una vez cerramos la ventana tenemos que indicarle a qué ventana tiene que ir"
   ]
  },
  {
   "cell_type": "code",
   "execution_count": 55,
   "metadata": {},
   "outputs": [
    {
     "ename": "NoSuchWindowException",
     "evalue": "Message: no such window: target window already closed\nfrom unknown error: web view not found\n  (Session info: chrome=110.0.5481.177)\nStacktrace:\n0   chromedriver                        0x000000010b3c7138 chromedriver + 4923704\n1   chromedriver                        0x000000010b33f9d3 chromedriver + 4368851\n2   chromedriver                        0x000000010af88787 chromedriver + 472967\n3   chromedriver                        0x000000010af5ec15 chromedriver + 302101\n4   chromedriver                        0x000000010affb4cf chromedriver + 943311\n5   chromedriver                        0x000000010b0102c6 chromedriver + 1028806\n6   chromedriver                        0x000000010aff5d23 chromedriver + 920867\n7   chromedriver                        0x000000010afbca4b chromedriver + 686667\n8   chromedriver                        0x000000010afbe044 chromedriver + 692292\n9   chromedriver                        0x000000010b3928fe chromedriver + 4708606\n10  chromedriver                        0x000000010b397e22 chromedriver + 4730402\n11  chromedriver                        0x000000010b3a06bf chromedriver + 4765375\n12  chromedriver                        0x000000010b398e80 chromedriver + 4734592\n13  chromedriver                        0x000000010b369975 chromedriver + 4540789\n14  chromedriver                        0x000000010b3bae78 chromedriver + 4873848\n15  chromedriver                        0x000000010b3baff5 chromedriver + 4874229\n16  chromedriver                        0x000000010b3cf6de chromedriver + 4957918\n17  libsystem_pthread.dylib             0x00007ff81a1144e1 _pthread_start + 125\n18  libsystem_pthread.dylib             0x00007ff81a10ff6b thread_start + 15\n",
     "output_type": "error",
     "traceback": [
      "\u001b[0;31m---------------------------------------------------------------------------\u001b[0m",
      "\u001b[0;31mNoSuchWindowException\u001b[0m                     Traceback (most recent call last)",
      "Cell \u001b[0;32mIn[55], line 1\u001b[0m\n\u001b[0;32m----> 1\u001b[0m \u001b[43mdriver\u001b[49m\u001b[38;5;241;43m.\u001b[39;49m\u001b[43mexecute_script\u001b[49m\u001b[43m(\u001b[49m\u001b[38;5;124;43m'\u001b[39;49m\u001b[38;5;124;43mwindow.open(\u001b[39;49m\u001b[38;5;124;43m\"\u001b[39;49m\u001b[38;5;124;43m'\u001b[39;49m\u001b[38;5;241;43m+\u001b[39;49m\u001b[43mlink\u001b[49m\u001b[38;5;241;43m+\u001b[39;49m\u001b[38;5;124;43m'\u001b[39;49m\u001b[38;5;124;43m\"\u001b[39;49m\u001b[38;5;124;43m);\u001b[39;49m\u001b[38;5;124;43m'\u001b[39;49m\u001b[43m)\u001b[49m\n\u001b[1;32m      2\u001b[0m driver\u001b[38;5;241m.\u001b[39mget(link)\n",
      "File \u001b[0;32m/Library/Frameworks/Python.framework/Versions/3.10/lib/python3.10/site-packages/selenium/webdriver/remote/webdriver.py:500\u001b[0m, in \u001b[0;36mWebDriver.execute_script\u001b[0;34m(self, script, *args)\u001b[0m\n\u001b[1;32m    497\u001b[0m converted_args \u001b[39m=\u001b[39m \u001b[39mlist\u001b[39m(args)\n\u001b[1;32m    498\u001b[0m command \u001b[39m=\u001b[39m Command\u001b[39m.\u001b[39mW3C_EXECUTE_SCRIPT\n\u001b[0;32m--> 500\u001b[0m \u001b[39mreturn\u001b[39;00m \u001b[39mself\u001b[39;49m\u001b[39m.\u001b[39;49mexecute(command, {\u001b[39m\"\u001b[39;49m\u001b[39mscript\u001b[39;49m\u001b[39m\"\u001b[39;49m: script, \u001b[39m\"\u001b[39;49m\u001b[39margs\u001b[39;49m\u001b[39m\"\u001b[39;49m: converted_args})[\u001b[39m\"\u001b[39m\u001b[39mvalue\u001b[39m\u001b[39m\"\u001b[39m]\n",
      "File \u001b[0;32m/Library/Frameworks/Python.framework/Versions/3.10/lib/python3.10/site-packages/selenium/webdriver/remote/webdriver.py:440\u001b[0m, in \u001b[0;36mWebDriver.execute\u001b[0;34m(self, driver_command, params)\u001b[0m\n\u001b[1;32m    438\u001b[0m response \u001b[39m=\u001b[39m \u001b[39mself\u001b[39m\u001b[39m.\u001b[39mcommand_executor\u001b[39m.\u001b[39mexecute(driver_command, params)\n\u001b[1;32m    439\u001b[0m \u001b[39mif\u001b[39;00m response:\n\u001b[0;32m--> 440\u001b[0m     \u001b[39mself\u001b[39;49m\u001b[39m.\u001b[39;49merror_handler\u001b[39m.\u001b[39;49mcheck_response(response)\n\u001b[1;32m    441\u001b[0m     response[\u001b[39m\"\u001b[39m\u001b[39mvalue\u001b[39m\u001b[39m\"\u001b[39m] \u001b[39m=\u001b[39m \u001b[39mself\u001b[39m\u001b[39m.\u001b[39m_unwrap_value(response\u001b[39m.\u001b[39mget(\u001b[39m\"\u001b[39m\u001b[39mvalue\u001b[39m\u001b[39m\"\u001b[39m, \u001b[39mNone\u001b[39;00m))\n\u001b[1;32m    442\u001b[0m     \u001b[39mreturn\u001b[39;00m response\n",
      "File \u001b[0;32m/Library/Frameworks/Python.framework/Versions/3.10/lib/python3.10/site-packages/selenium/webdriver/remote/errorhandler.py:245\u001b[0m, in \u001b[0;36mErrorHandler.check_response\u001b[0;34m(self, response)\u001b[0m\n\u001b[1;32m    243\u001b[0m         alert_text \u001b[39m=\u001b[39m value[\u001b[39m\"\u001b[39m\u001b[39malert\u001b[39m\u001b[39m\"\u001b[39m]\u001b[39m.\u001b[39mget(\u001b[39m\"\u001b[39m\u001b[39mtext\u001b[39m\u001b[39m\"\u001b[39m)\n\u001b[1;32m    244\u001b[0m     \u001b[39mraise\u001b[39;00m exception_class(message, screen, stacktrace, alert_text)  \u001b[39m# type: ignore[call-arg]  # mypy is not smart enough here\u001b[39;00m\n\u001b[0;32m--> 245\u001b[0m \u001b[39mraise\u001b[39;00m exception_class(message, screen, stacktrace)\n",
      "\u001b[0;31mNoSuchWindowException\u001b[0m: Message: no such window: target window already closed\nfrom unknown error: web view not found\n  (Session info: chrome=110.0.5481.177)\nStacktrace:\n0   chromedriver                        0x000000010b3c7138 chromedriver + 4923704\n1   chromedriver                        0x000000010b33f9d3 chromedriver + 4368851\n2   chromedriver                        0x000000010af88787 chromedriver + 472967\n3   chromedriver                        0x000000010af5ec15 chromedriver + 302101\n4   chromedriver                        0x000000010affb4cf chromedriver + 943311\n5   chromedriver                        0x000000010b0102c6 chromedriver + 1028806\n6   chromedriver                        0x000000010aff5d23 chromedriver + 920867\n7   chromedriver                        0x000000010afbca4b chromedriver + 686667\n8   chromedriver                        0x000000010afbe044 chromedriver + 692292\n9   chromedriver                        0x000000010b3928fe chromedriver + 4708606\n10  chromedriver                        0x000000010b397e22 chromedriver + 4730402\n11  chromedriver                        0x000000010b3a06bf chromedriver + 4765375\n12  chromedriver                        0x000000010b398e80 chromedriver + 4734592\n13  chromedriver                        0x000000010b369975 chromedriver + 4540789\n14  chromedriver                        0x000000010b3bae78 chromedriver + 4873848\n15  chromedriver                        0x000000010b3baff5 chromedriver + 4874229\n16  chromedriver                        0x000000010b3cf6de chromedriver + 4957918\n17  libsystem_pthread.dylib             0x00007ff81a1144e1 _pthread_start + 125\n18  libsystem_pthread.dylib             0x00007ff81a10ff6b thread_start + 15\n"
     ]
    }
   ],
   "source": [
    "driver.execute_script('window.open(\"'+link+'\");')\n",
    "driver.get(link)"
   ]
  },
  {
   "cell_type": "code",
   "execution_count": 180,
   "metadata": {},
   "outputs": [],
   "source": []
  }
 ],
 "metadata": {
  "kernelspec": {
   "display_name": "Python 3",
   "language": "python",
   "name": "python3"
  },
  "language_info": {
   "codemirror_mode": {
    "name": "ipython",
    "version": 3
   },
   "file_extension": ".py",
   "mimetype": "text/x-python",
   "name": "python",
   "nbconvert_exporter": "python",
   "pygments_lexer": "ipython3",
   "version": "3.7.4"
  },
  "vscode": {
   "interpreter": {
    "hash": "252189e587d1e2aeba4a06e91fa71896c7a7f6e22e918b9407c7cde4ef2d5985"
   }
  }
 },
 "nbformat": 4,
 "nbformat_minor": 0
}
